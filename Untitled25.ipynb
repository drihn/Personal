{
  "nbformat": 4,
  "nbformat_minor": 0,
  "metadata": {
    "colab": {
      "provenance": [],
      "authorship_tag": "ABX9TyPTfbSCc+itQdKwRo6f/oYG",
      "include_colab_link": true
    },
    "kernelspec": {
      "name": "python3",
      "display_name": "Python 3"
    },
    "language_info": {
      "name": "python"
    }
  },
  "cells": [
    {
      "cell_type": "markdown",
      "metadata": {
        "id": "view-in-github",
        "colab_type": "text"
      },
      "source": [
        "<a href=\"https://colab.research.google.com/github/drihn/Personal/blob/main/Untitled25.ipynb\" target=\"_parent\"><img src=\"https://colab.research.google.com/assets/colab-badge.svg\" alt=\"Open In Colab\"/></a>"
      ]
    },
    {
      "cell_type": "code",
      "execution_count": 16,
      "metadata": {
        "colab": {
          "base_uri": "https://localhost:8080/"
        },
        "id": "6LRC7DmglUTv",
        "outputId": "ab6c1af3-e16f-4454-e76e-22d2c18134f8"
      },
      "outputs": [
        {
          "output_type": "stream",
          "name": "stdout",
          "text": [
            "Missing values in each column:\n",
            " Person ID                    0\n",
            "Gender                       0\n",
            "Age                          0\n",
            "Occupation                   0\n",
            "Sleep Duration               0\n",
            "Quality of Sleep             0\n",
            "Physical Activity Level      0\n",
            "Stress Level                 0\n",
            "BMI Category                 0\n",
            "Blood Pressure               0\n",
            "Heart Rate                   0\n",
            "Daily Steps                  0\n",
            "Sleep Disorder             219\n",
            "dtype: int64\n",
            "Missing values after handling:\n",
            " Person ID                  0\n",
            "Gender                     0\n",
            "Age                        0\n",
            "Occupation                 0\n",
            "Sleep Duration             0\n",
            "Quality of Sleep           0\n",
            "Physical Activity Level    0\n",
            "Stress Level               0\n",
            "BMI Category               0\n",
            "Blood Pressure             0\n",
            "Heart Rate                 0\n",
            "Daily Steps                0\n",
            "Sleep Disorder             0\n",
            "dtype: int64\n"
          ]
        },
        {
          "output_type": "stream",
          "name": "stderr",
          "text": [
            "<ipython-input-16-a1fbea1b680c>:26: FutureWarning: A value is trying to be set on a copy of a DataFrame or Series through chained assignment using an inplace method.\n",
            "The behavior will change in pandas 3.0. This inplace method will never work because the intermediate object on which we are setting values always behaves as a copy.\n",
            "\n",
            "For example, when doing 'df[col].method(value, inplace=True)', try using 'df.method({col: value}, inplace=True)' or df[col] = df[col].method(value) instead, to perform the operation inplace on the original object.\n",
            "\n",
            "\n",
            "  df[column].fillna(df[column].median(), inplace=True)  # Fill numerical NaNs with the median\n",
            "<ipython-input-16-a1fbea1b680c>:24: FutureWarning: A value is trying to be set on a copy of a DataFrame or Series through chained assignment using an inplace method.\n",
            "The behavior will change in pandas 3.0. This inplace method will never work because the intermediate object on which we are setting values always behaves as a copy.\n",
            "\n",
            "For example, when doing 'df[col].method(value, inplace=True)', try using 'df.method({col: value}, inplace=True)' or df[col] = df[col].method(value) instead, to perform the operation inplace on the original object.\n",
            "\n",
            "\n",
            "  df[column].fillna(df[column].mode()[0], inplace=True)  # Fill categorical NaNs with the mode\n"
          ]
        },
        {
          "output_type": "stream",
          "name": "stdout",
          "text": [
            "Logistic Regression: Accuracy: 0.95, Precision: 0.95, Recall: 0.95, F1 Score: 0.95\n",
            "K-Nearest Neighbors: Accuracy: 0.93, Precision: 0.93, Recall: 0.93, F1 Score: 0.93\n",
            "Decision Tree: Accuracy: 0.93, Precision: 0.93, Recall: 0.93, F1 Score: 0.93\n",
            "Random Forest: Accuracy: 0.95, Precision: 0.95, Recall: 0.95, F1 Score: 0.95\n",
            "Support Vector Machine: Accuracy: 0.94, Precision: 0.94, Recall: 0.94, F1 Score: 0.94\n",
            "The best model is Logistic Regression with an accuracy of 0.95\n"
          ]
        }
      ],
      "source": [
        "import pandas as pd\n",
        "from sklearn.model_selection import train_test_split\n",
        "from sklearn.preprocessing import StandardScaler, OneHotEncoder\n",
        "from sklearn.compose import ColumnTransformer\n",
        "from sklearn.pipeline import Pipeline\n",
        "from sklearn.ensemble import RandomForestClassifier\n",
        "from sklearn.linear_model import LogisticRegression\n",
        "from sklearn.svm import SVC\n",
        "from sklearn.neighbors import KNeighborsClassifier\n",
        "from sklearn.tree import DecisionTreeClassifier\n",
        "from sklearn.metrics import accuracy_score, precision_score, recall_score, f1_score\n",
        "\n",
        "# Load the dataset\n",
        "dataset_url = 'https://raw.githubusercontent.com/drihn/Personal/refs/heads/main/Sleep_health_and_lifestyle_dataset.csv'\n",
        "df = pd.read_csv(dataset_url)\n",
        "\n",
        "# Check for missing values\n",
        "missing_values = df.isnull().sum()\n",
        "print(\"Missing values in each column:\\n\", missing_values)\n",
        "\n",
        "# Handle missing values\n",
        "for column in df.columns:\n",
        "    if df[column].dtype == 'object':\n",
        "        df[column].fillna(df[column].mode()[0], inplace=True)  # Fill categorical NaNs with the mode\n",
        "    else:\n",
        "        df[column].fillna(df[column].median(), inplace=True)  # Fill numerical NaNs with the median\n",
        "\n",
        "# After handling missing values, check again\n",
        "missing_values_after = df.isnull().sum()\n",
        "print(\"Missing values after handling:\\n\", missing_values_after)\n",
        "\n",
        "# Identify features and target variable\n",
        "X = df.drop('Sleep Disorder', axis=1)  # Use 'Sleep Disorder' as the target column name\n",
        "y = df['Sleep Disorder']  # Categorical target\n",
        "\n",
        "# Split the data into training and testing sets\n",
        "X_train, X_test, y_train, y_test = train_test_split(X, y, test_size=0.3, random_state=42)\n",
        "\n",
        "# Preprocessing pipeline\n",
        "numeric_features = X_train.select_dtypes(include=['int64', 'float64']).columns.tolist()\n",
        "categorical_features = X_train.select_dtypes(include=['object']).columns.tolist()\n",
        "\n",
        "# Create a column transformer for preprocessing\n",
        "preprocessor = ColumnTransformer(\n",
        "    transformers=[\n",
        "        ('num', StandardScaler(), numeric_features),\n",
        "        ('cat', OneHotEncoder(handle_unknown='ignore'), categorical_features)\n",
        "    ])\n",
        "\n",
        "# Define a function to evaluate a model with error handling\n",
        "def evaluate_model(model):\n",
        "    try:\n",
        "        model.fit(X_train, y_train)\n",
        "        y_pred = model.predict(X_test)\n",
        "        accuracy = accuracy_score(y_test, y_pred)\n",
        "        precision = precision_score(y_test, y_pred, average='weighted')  # Changed to weighted\n",
        "        recall = recall_score(y_test, y_pred, average='weighted')  # Changed to weighted\n",
        "        f1 = f1_score(y_test, y_pred, average='weighted')  # Changed to weighted\n",
        "        return accuracy, precision, recall, f1\n",
        "    except Exception as e:\n",
        "        print(f\"Error occurred while evaluating model: {e}\")\n",
        "        return None\n",
        "\n",
        "# Models to evaluate\n",
        "models = {\n",
        "    'Logistic Regression': Pipeline(steps=[('preprocessor', preprocessor),\n",
        "                                           ('classifier', LogisticRegression(max_iter=1000))]),\n",
        "    'K-Nearest Neighbors': Pipeline(steps=[('preprocessor', preprocessor),\n",
        "                                           ('classifier', KNeighborsClassifier())]),\n",
        "    'Decision Tree': Pipeline(steps=[('preprocessor', preprocessor),\n",
        "                                      ('classifier', DecisionTreeClassifier())]),\n",
        "    'Random Forest': Pipeline(steps=[('preprocessor', preprocessor),\n",
        "                                      ('classifier', RandomForestClassifier())]),\n",
        "    'Support Vector Machine': Pipeline(steps=[('preprocessor', preprocessor),\n",
        "                                              ('classifier', SVC())])\n",
        "}\n",
        "\n",
        "# Evaluate each model and print the results\n",
        "results = {}\n",
        "for name, model in models.items():\n",
        "    result = evaluate_model(model)\n",
        "    if result:  # Only store results if evaluation was successful\n",
        "        results[name] = result\n",
        "\n",
        "# Display the results\n",
        "for model_name, metrics in results.items():\n",
        "    print(f\"{model_name}: Accuracy: {metrics[0]:.2f}, Precision: {metrics[1]:.2f}, \"\n",
        "          f\"Recall: {metrics[2]:.2f}, F1 Score: {metrics[3]:.2f}\")\n",
        "\n",
        "# Select the best performing model based on accuracy\n",
        "if results:  # Check if there are results to compare\n",
        "    best_model_name = max(results, key=lambda k: results[k][0])\n",
        "    best_model_score = results[best_model_name]\n",
        "    print(f\"The best model is {best_model_name} with an accuracy of {best_model_score[0]:.2f}\")\n",
        "else:\n",
        "    print(\"No models were evaluated successfully.\")\n"
      ]
    }
  ]
}